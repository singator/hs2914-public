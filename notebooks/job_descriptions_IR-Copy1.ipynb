{
 "cells": [
  {
   "cell_type": "raw",
   "id": "123c0616-8d5e-4336-94c6-ed16eaac2a52",
   "metadata": {},
   "source": [
    "---\n",
    "title: \"Testing quarto\"\n",
    "author: \"Vik\"\n",
    "date: \"2024-07-30\"\n",
    "format:\n",
    "  html:\n",
    "    code-fold: true\n",
    "jupyter: python3\n",
    "---"
   ]
  },
  {
   "cell_type": "markdown",
   "id": "96721293-c21b-4833-857b-b7be88885439",
   "metadata": {},
   "source": [
    "## Data Scientist Jobs from Europe:\n",
    "\n",
    "Relevant URLs:\n",
    "\n",
    "1. https://methodmatters.github.io/data-jobs-europe/\n",
    "2. https://github.com/methodmatters/data-jobs-europe (contains a notebook for studying jobs.)\n",
    "3. https://www.r-bloggers.com/2022/04/text-analysis-of-job-descriptions-for-data-scientists-data-engineers-machine-learning-engineers-and-data-analysts/\n",
    "\n",
    "These are the columns in the dataset:\n",
    "\n",
    "| **Attribute**                    | **Description**                                                                                      |\n",
    "|----------------------------------|------------------------------------------------------------------------------------------------------|\n",
    "| employer_id                      | Unique identifier for the employer                                                                   |\n",
    "| company_name                     | Name of the company posting the job                                                                   |\n",
    "| job_id                           | Unique identifier for the job description                                                            |\n",
    "| job_title                        | Job title as input by the employer                                                                   |\n",
    "| job_function                     | Harmonized job title managed by job listing site (values: data scientist, data engineer, data analyst, machine learning engineer) |\n",
    "| job_description_text             | Text of the job advertisement (not all in English)                                                   |\n",
    "| job_skills                       | List of employer-determined skill keywords (in English)                                              |\n",
    "| education_desired                | List of employer-requested educational attainments                                                   |\n",
    "| job_location                     | City where the job is located                                                                        |\n",
    "| company_hq_location              | City and country of the company's headquarters                                                       |\n",
    "| company_sector_name              | Sector in which the company is active                                                                |\n",
    "| company_industry                 | Industry in which the company is active                                                              |\n",
    "| company_type                     | Type of company (e.g., government, private company, etc.)                                            |\n",
    "| company_size                     | Number of employees that the company has                                                             |\n",
    "| company_revenue                  | Annual company revenue in USD                                                                        |\n",
    "| company_year_founded             | Year the company was founded                                                                         |\n",
    "| company_website                  | Company website                                                                                      |\n",
    "| rating_global                    | Site users' overall rating of company                                                                |\n",
    "| rating_comp_ben                  | Site users' rating of compensation & benefits (pay, bonus, etc.)                                     |\n",
    "| rating_culture_values            | Site users' rating of culture and values                                                             |\n",
    "| rating_career_opportunities      | Site users' rating of career opportunities                                                           |\n",
    "| rating_w_life_balance            | Site users' rating of work-life balance                                                              |\n",
    "| rating_sr_mgt                    | Site users' rating of senior management                                                              |\n",
    "| query_country                    | Country used in the query to scrape the job ad                                                       |\n",
    "| date_job_posted                  | Date the job advertisement was posted                                                                |\n",
    "| date_job_expires                 | Date the job advertisement expires                                                                   |\n",
    "| age_job_posting_days             | Age of the job ad (in days) on the date that it was scraped                                          |\n",
    "| scraping_date                    | Date the job was scraped                                                                             |\n",
    "| language                         | Language of the job description text (determined via the langid package in Python)                   |\n"
   ]
  },
  {
   "cell_type": "code",
   "execution_count": 59,
   "id": "ff9f3559-ebe6-4bd2-adf8-31a89c1469eb",
   "metadata": {},
   "outputs": [],
   "source": [
    "import numpy as np\n",
    "import pandas as pd\n",
    "import pickle\n",
    "\n",
    "from itables import show\n",
    "import pprint\n",
    "import ipywidgets as widgets\n",
    "from IPython.display import display\n",
    "\n",
    "\n",
    "import gensim\n",
    "from gensim.parsing.preprocessing import *\n",
    "import gensim.downloader as api\n",
    "from nltk.stem import WordNetLemmatizer"
   ]
  }
 ],
 "metadata": {
  "kernelspec": {
   "display_name": "Python 3 (ipykernel)",
   "language": "python",
   "name": "python3"
  },
  "language_info": {
   "codemirror_mode": {
    "name": "ipython",
    "version": 3
   },
   "file_extension": ".py",
   "mimetype": "text/x-python",
   "name": "python",
   "nbconvert_exporter": "python",
   "pygments_lexer": "ipython3",
   "version": "3.10.12"
  }
 },
 "nbformat": 4,
 "nbformat_minor": 5
}
