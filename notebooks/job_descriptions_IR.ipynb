{
 "cells": [
  {
   "cell_type": "raw",
   "id": "123c0616-8d5e-4336-94c6-ed16eaac2a52",
   "metadata": {},
   "source": [
    "---\n",
    "title: \"Testing quarto\"\n",
    "author: \"Vik\"\n",
    "date: \"2024-07-30\"\n",
    "format:\n",
    "  html:\n",
    "    code-fold: true\n",
    "jupyter: python3\n",
    "---"
   ]
  },
  {
   "cell_type": "markdown",
   "id": "96721293-c21b-4833-857b-b7be88885439",
   "metadata": {},
   "source": [
    "## Data Scientist Jobs from Europe:\n",
    "\n",
    "Relevant URLs:\n",
    "\n",
    "1. https://methodmatters.github.io/data-jobs-europe/\n",
    "2. https://github.com/methodmatters/data-jobs-europe (contains a notebook for studying jobs.)\n",
    "3. https://www.r-bloggers.com/2022/04/text-analysis-of-job-descriptions-for-data-scientists-data-engineers-machine-learning-engineers-and-data-analysts/\n",
    "\n",
    "These are the columns in the dataset:\n",
    "\n",
    "| **Attribute**                    | **Description**                                                                                      |\n",
    "|----------------------------------|------------------------------------------------------------------------------------------------------|\n",
    "| employer_id                      | Unique identifier for the employer                                                                   |\n",
    "| company_name                     | Name of the company posting the job                                                                   |\n",
    "| job_id                           | Unique identifier for the job description                                                            |\n",
    "| job_title                        | Job title as input by the employer                                                                   |\n",
    "| job_function                     | Harmonized job title managed by job listing site (values: data scientist, data engineer, data analyst, machine learning engineer) |\n",
    "| job_description_text             | Text of the job advertisement (not all in English)                                                   |\n",
    "| job_skills                       | List of employer-determined skill keywords (in English)                                              |\n",
    "| education_desired                | List of employer-requested educational attainments                                                   |\n",
    "| job_location                     | City where the job is located                                                                        |\n",
    "| company_hq_location              | City and country of the company's headquarters                                                       |\n",
    "| company_sector_name              | Sector in which the company is active                                                                |\n",
    "| company_industry                 | Industry in which the company is active                                                              |\n",
    "| company_type                     | Type of company (e.g., government, private company, etc.)                                            |\n",
    "| company_size                     | Number of employees that the company has                                                             |\n",
    "| company_revenue                  | Annual company revenue in USD                                                                        |\n",
    "| company_year_founded             | Year the company was founded                                                                         |\n",
    "| company_website                  | Company website                                                                                      |\n",
    "| rating_global                    | Site users' overall rating of company                                                                |\n",
    "| rating_comp_ben                  | Site users' rating of compensation & benefits (pay, bonus, etc.)                                     |\n",
    "| rating_culture_values            | Site users' rating of culture and values                                                             |\n",
    "| rating_career_opportunities      | Site users' rating of career opportunities                                                           |\n",
    "| rating_w_life_balance            | Site users' rating of work-life balance                                                              |\n",
    "| rating_sr_mgt                    | Site users' rating of senior management                                                              |\n",
    "| query_country                    | Country used in the query to scrape the job ad                                                       |\n",
    "| date_job_posted                  | Date the job advertisement was posted                                                                |\n",
    "| date_job_expires                 | Date the job advertisement expires                                                                   |\n",
    "| age_job_posting_days             | Age of the job ad (in days) on the date that it was scraped                                          |\n",
    "| scraping_date                    | Date the job was scraped                                                                             |\n",
    "| language                         | Language of the job description text (determined via the langid package in Python)                   |\n"
   ]
  },
  {
   "cell_type": "code",
   "execution_count": 59,
   "id": "ff9f3559-ebe6-4bd2-adf8-31a89c1469eb",
   "metadata": {},
   "outputs": [],
   "source": [
    "import numpy as np\n",
    "import pandas as pd\n",
    "import pickle\n",
    "\n",
    "from itables import show\n",
    "import pprint\n",
    "import ipywidgets as widgets\n",
    "from IPython.display import display\n",
    "\n",
    "\n",
    "import gensim\n",
    "from gensim.parsing.preprocessing import *\n",
    "import gensim.downloader as api\n",
    "from nltk.stem import WordNetLemmatizer"
   ]
  },
  {
   "cell_type": "code",
   "execution_count": 18,
   "id": "7e5c0aeb-f484-4494-afcf-e073520cf756",
   "metadata": {},
   "outputs": [],
   "source": [
    "in_dir = '../data/europe_data/'\n",
    "with open(in_dir + 'omnibus_jobs_df.pickle', 'rb') as handle:\n",
    "    omnibus_jobs_df = pickle.load(handle)\n",
    "\n",
    "rng = np.random.default_rng(2913)\n",
    "pp = pprint.PrettyPrinter(indent=4, compact=True,)"
   ]
  },
  {
   "cell_type": "code",
   "execution_count": 175,
   "id": "04ed2762-c249-4b91-bddb-77a15392bd5d",
   "metadata": {},
   "outputs": [
    {
     "name": "stdout",
     "output_type": "stream",
     "text": [
      "array(['Data Scientist (m/w/d)',\n",
      "       'Consultant, Data Engineer / Data Analyst, Process Bionics, Intelligent Automation, Consulting, London',\n",
      "       'Data Analyst H/F', 'Data Analyst / Data Presenter (Home-based)',\n",
      "       'Data Engineer Python / Freelance', 'DATA SCIENTIST (D/F/M)',\n",
      "       '(Junior) Data Analytics Engineer (m/w/d)',\n",
      "       'Lead Data Engineer (m/w/d)', 'Data Analyst',\n",
      "       'Data Analyst - People Analytics'], dtype=object)\n"
     ]
    }
   ],
   "source": [
    "pp.pprint(rng.choice(omnibus_jobs_df.job_title, size=10))\n",
    "#pp.pprint(rng.choice(omnibus_jobs_df.language, size=3))\n",
    "#omnibus_jobs_df.language.value_counts()"
   ]
  },
  {
   "cell_type": "markdown",
   "id": "1b3db074-dced-4856-a89a-c73b5ee7b239",
   "metadata": {},
   "source": [
    "Let us focus on only the English jobs that have been posted."
   ]
  },
  {
   "cell_type": "code",
   "execution_count": 176,
   "id": "38001248-65c3-4087-9bd2-971f1337b45f",
   "metadata": {},
   "outputs": [],
   "source": [
    "en_jobs_df = omnibus_jobs_df[omnibus_jobs_df.language == 'en']"
   ]
  },
  {
   "cell_type": "markdown",
   "id": "5d34a8c8-2efe-435d-99f5-1a2c05555d2e",
   "metadata": {},
   "source": [
    "### Querying data science jobs from Europe\n",
    "\n",
    "#### Using tf-idf"
   ]
  },
  {
   "cell_type": "code",
   "execution_count": null,
   "id": "a4a52782-bbff-43ca-bcbb-8dcc4c912915",
   "metadata": {},
   "outputs": [],
   "source": [
    "wn = WordNetLemmatizer()\n",
    "CUSTOM_FILTER = [lambda x: x.lower(), strip_punctuation, \n",
    "                 strip_multiple_whitespaces, strip_numeric, \n",
    "                 remove_stopwords, strip_short]\n",
    "\n",
    "all_job_strings = en_jobs_df.job_description_text.values\n",
    "#all_job_strings[:3]\n",
    "all_jobs_tokenized = [preprocess_string(x, CUSTOM_FILTER) for x in all_job_strings]"
   ]
  },
  {
   "cell_type": "code",
   "execution_count": null,
   "id": "d39355e0-c885-4947-9908-e777fea48cac",
   "metadata": {},
   "outputs": [],
   "source": [
    "dct = gensim.corpora.Dictionary(all_jobs_tokenized)\n",
    "bow_corpus = [dct.doc2bow(text) for text in all_jobs_tokenized]\n",
    "tfidf = gensim.models.TfidfModel(dictionary=dct)\n",
    "\n",
    "index = gensim.similarities.Similarity(None, corpus=tfidf[bow_corpus], num_features=len(dct))"
   ]
  },
  {
   "cell_type": "code",
   "execution_count": 196,
   "id": "810edaf0-d184-4648-9f7d-9d641f3206a6",
   "metadata": {},
   "outputs": [],
   "source": [
    "#q1 = [wn.lemmatize(x) for x in preprocess_string('resourceful machine learning engineer', CUSTOM_FILTER)]\n",
    "#sims = index[tfidf[dct.doc2bow(q1)]]\n",
    "\n",
    "#np.flip(np.sort(sims))\n",
    "\n",
    "#q1_results = np.argsort(-sims)[:10]\n",
    "#q1_results\n",
    "#en_jobs_df.job_description_text.values[q1_results[0]]"
   ]
  },
  {
   "cell_type": "code",
   "execution_count": 150,
   "id": "863f530d-369f-4826-853c-08ac8bcaa8f9",
   "metadata": {},
   "outputs": [],
   "source": [
    "# Create a Text widget\n",
    "text_widget = widgets.Text(\n",
    "    value='',\n",
    "    placeholder='Type something',\n",
    "    description='Input:',\n",
    "    disabled=False\n",
    ")\n",
    "\n",
    "return_no = widgets.IntText(\n",
    "    value=10,\n",
    "    description='No. to return:',\n",
    "    disabled=False\n",
    ")\n",
    "\n",
    "# Create a Button widget\n",
    "button = widgets.Button(\n",
    "    description='Submit',\n",
    "    disabled=False,\n",
    "    button_style='',  # 'success', 'info', 'warning', 'danger' or ''\n",
    "    tooltip='Click me',\n",
    "    icon='check'  # (FontAwesome names without the `fa-` prefix)\n",
    ")\n",
    "\n",
    "out2 = widgets.Textarea(\n",
    "    value='Retrieved descriptions:',\n",
    "    placeholder='Type something',\n",
    "    description='String:',\n",
    "    disabled=False\n",
    "    #layout = widgets.Layout('1000px')\n",
    ")\n",
    "#out2.layout = widgets.Layout('1000px')"
   ]
  },
  {
   "cell_type": "code",
   "execution_count": 167,
   "id": "601f8f38-e4f2-44b9-bf04-611930a3a865",
   "metadata": {},
   "outputs": [],
   "source": [
    "# Function to handle button click\n",
    "def on_button_click(b):\n",
    "    #out.clear_output()\n",
    "    q1 = [wn.lemmatize(x) for x in preprocess_string(text_widget.value, CUSTOM_FILTER)]\n",
    "    sims = index[tfidf[dct.doc2bow(q1)]]\n",
    "    flipped_sims = np.flip(np.sort(sims))\n",
    "\n",
    "    q1_results = np.argsort(-sims)[:return_no.value]\n",
    "    out_string = ''\n",
    "    for i,qq in enumerate(q1_results):\n",
    "        out_string += \"---\\n\"\n",
    "        out_string += f\"Rank: {i+1}, Similarity with query: {flipped_sims[i]:.3f}\\n\"\n",
    "        out_string += f\"{en_jobs_df.job_description_text.values[qq]} \\n\\n\"\n",
    "\n",
    "    out2.value = out_string\n",
    "        \n",
    "    #q1_results\n",
    "    #np.flip(np.sort(sims))\n",
    "    #q1_results = np.argsort(-sims)[:10]\n",
    "    #out2.value = \"Boo3333!\\n\" * 19\n",
    "    \n",
    "# Attach the click event handler to the button\n",
    "button.on_click(on_button_click)"
   ]
  },
  {
   "cell_type": "code",
   "execution_count": 172,
   "id": "2e799e47-f7c4-4381-b072-e84b9ae40a69",
   "metadata": {},
   "outputs": [
    {
     "data": {
      "application/vnd.jupyter.widget-view+json": {
       "model_id": "3cfe0399f5ee453bae256047717a146e",
       "version_major": 2,
       "version_minor": 0
      },
      "text/plain": [
       "VBox(children=(HBox(children=(Text(value='research engineer,  SQL, entry level', description='Input:', layout=…"
      ]
     },
     "metadata": {},
     "output_type": "display_data"
    }
   ],
   "source": [
    "# Display the text widget and button\n",
    "display(widgets.VBox([widgets.HBox([text_widget, return_no]), button, out2]))\n",
    "text_widget.layout=widgets.Layout(width='800px')\n",
    "out2.layout = widgets.Layout(width='1000px', height='500px')"
   ]
  },
  {
   "cell_type": "markdown",
   "id": "ddf07f94-c25b-4b58-8287-30d6a36c2fb4",
   "metadata": {},
   "source": [
    "#### Using Word2vec"
   ]
  },
  {
   "cell_type": "code",
   "execution_count": 183,
   "id": "f34c3490-36c7-4577-850c-aa94d5b664db",
   "metadata": {},
   "outputs": [],
   "source": [
    "train_corpus = [gensim.models.doc2vec.TaggedDocument(x, [i]) for i,x in enumerate(all_jobs_tokenized)]\n",
    "model = gensim.models.doc2vec.Doc2Vec(vector_size=256, min_count=2, epochs=40)\n",
    "model.build_vocab(train_corpus)"
   ]
  },
  {
   "cell_type": "code",
   "execution_count": 191,
   "id": "eef510c8-b608-4731-87b0-1450537d280b",
   "metadata": {},
   "outputs": [],
   "source": [
    "query_vec = model.infer_vector('research engineer SQL entry level'.split())"
   ]
  },
  {
   "cell_type": "code",
   "execution_count": 193,
   "id": "2c57a4d8-64e6-48b0-b2bb-0f9c9d4ce38e",
   "metadata": {},
   "outputs": [
    {
     "name": "stdout",
     "output_type": "stream",
     "text": [
      "('IN SHORT At Wunderflats we believe that everyone should have the freedom to '\n",
      " 'live and work wherever they want. On our platform, we offer fully furnished '\n",
      " 'apartments from a rental period of one month, which can be easily booked '\n",
      " \"online. Our mission: Shaping the future of housing! If you're looking for a \"\n",
      " 'progressive and rewarding career, supported by a company that really cares '\n",
      " 'about its people, then this might be the perfect role for you. The Data and '\n",
      " 'Advanced Analytics team at Wunderflats is growing and we are now looking for '\n",
      " 'a talented Senior Software Engineer (f/m/d*) with a passion for Machine '\n",
      " 'Learning to join us. This role will cover a broad spectrum of projects '\n",
      " 'including developing automated infrastructure that builds and trains models, '\n",
      " 'data pipelines and scalable endpoints. This role will also be responsible '\n",
      " 'for refining, automating, and deploying to production and lastly building '\n",
      " 'user interfaces for some data products. This is a permanent role on a '\n",
      " 'full-time basis, with an option for remote working (+/- 1hs from our Berlin '\n",
      " 'Headquarters). YOUR MISSION Design and improve end to end automated '\n",
      " 'infrastructure serving our Machine Learning products Provision clusters to '\n",
      " 'train models on huge datasets and deploy feature preparation pipelines '\n",
      " 'Deploy and monitor Models in production (e.g. building artifacts, measuring '\n",
      " 'model drift, etc.) Build efficient delivery mechanisms for model outputs '\n",
      " '(e.g. API, events, microservices) Improve visibility and automated scaling '\n",
      " 'of our infrastructure with Terraform Continue to develop our Data Science '\n",
      " 'Platform with a cross-functional agile teams collaborating with Product '\n",
      " 'Owners, Data Scientists, and Business Intelligence teams Research discover '\n",
      " 'and harness new ideas that can make a difference YOUR PROFILE Experience '\n",
      " 'with deploying models to production. Awareness of machine learning '\n",
      " 'algorithms is a plus Extensive commercial experience working with Python and '\n",
      " 'proficiency with open source libraries Experience with Airflow and '\n",
      " 'Kubernetes Experience with cloud providers (AWS, GCP, Azure), DevOps, and '\n",
      " 'Automation for CI/CD with tools like Terraform The ability to design, '\n",
      " 'implement and deliver maintainable and high-quality code. Skilled in '\n",
      " 'software development best practices (git, secrets management, yaml/json '\n",
      " 'configurations etc.) Advanced coding skills in SQL are preferred OUR PITCH '\n",
      " 'Join the best team ever with a truly unique employee experience - check our '\n",
      " 'Glassdoor score State of the art tech stack Steep learning curve and '\n",
      " 'individual development opportunities based on your own selection We work '\n",
      " 'with Macs, but you can choose your device We provide a relocation package if '\n",
      " 'you are moving to Germany Flexible and family-friendly working hours and '\n",
      " 'maximum home office flexibility An easy way to get to work: Our office is '\n",
      " 'located right at Alexanderplatz Team- and company events (all in line with '\n",
      " 'current official regulations), yoga lessons, table tennis, cereals, coffee, '\n",
      " 'fruits, and beer We at Wunderflats value the diversity of our team and stand '\n",
      " 'for equal opportunity and non-discrimination. We respect all differences '\n",
      " 'from person to person, visible or not.')\n",
      "('Ding is the world’s leading universal top-up service. Founded in 2006, Ding '\n",
      " 'was born from seeing something that wasn’t there. 6 billion of the world’s '\n",
      " 'mobile phones are prepaid and a quarter of those are out of top-up. We '\n",
      " 'believe mobile phones can change lives and we want to improve people’s lives '\n",
      " 'by helping those with less gain access to more. Our mission is to build and '\n",
      " 'run the safest, simplest most effective and convenient top-up technology, in '\n",
      " 'partnership with the best operators and platforms. We’ll continue to spread '\n",
      " 'joy across the globe helping people everywhere to send little bytes of '\n",
      " 'happiness to their loved ones, keeping our customers connected to their '\n",
      " 'families and friends. Now more than ever we realise the importance of '\n",
      " 'keeping in touch and here at Ding we believe a little goes a long way. Day '\n",
      " 'to day responsibilities include: Manage the development of in-house machine '\n",
      " 'learning models to detect fraudulent behaviour Continually refine, tune and '\n",
      " 'future proof models Prototyping and building of classification models, both '\n",
      " 'supervised and unsupervised to enable a better understanding of our '\n",
      " 'customers Work with our Data Engineering team where necessary to ensure we '\n",
      " 'have the appropriate data in our data warehouse and assist the engineering '\n",
      " 'team with building of pipelines to load the data as required Work with our '\n",
      " 'Data Engineering teams to build real-time integrated decision-making systems '\n",
      " 'powered by machine learning and classification engines Identify automation '\n",
      " 'and improvement opportunities Research and development of bleeding-edge '\n",
      " 'techniques in online fraud prevention Identify data patterns and trends '\n",
      " 'Document all processes and research Key Attributes MSc or PhD in Computer '\n",
      " 'Science, Operations Research, Statistics, Applied Mathematics, Engineering '\n",
      " 'or Physics Proficient in SQL and data engineering pipelines Experience with '\n",
      " 'open-source data science tools such as R and Python Familiarity with machine '\n",
      " 'learning libraries and frameworks Can creatively curate features and fine '\n",
      " 'tune machine learning models Knowledge of productionising models seamlessly '\n",
      " 'Excellent applied statistics skills, such as distributions, statistical '\n",
      " 'testing, regression, etc. Experience working with the Google Cloud BI stack, '\n",
      " 'including BigQuery, Dataflow, AI, PubSub etc to build end-to-end data '\n",
      " 'applications Experience with visualization techniques to illustrate model '\n",
      " 'performance Comfortable with analysing large, complex, high-dimensional '\n",
      " 'datasets Strong communication and data presentation skills Domain knowledge '\n",
      " 'of online payments and fraud Adopts a pro-active approach and is always '\n",
      " 'looking for improvements in how things are done About Ding Ding was founded '\n",
      " 'to change billions of lives by accelerating mobile access. As the number one '\n",
      " 'international mobile top-up platform in the world, Ding has been keeping '\n",
      " 'people connected since 2006, when it launched this first-of-a-kind service. '\n",
      " 'Today, Ding’s users have successfully sent over 450 million top-ups '\n",
      " 'globally, via the app, online at Ding.com, and in-store at over 600K+ retail '\n",
      " 'outlets worldwide. In fact, Ding delivers a top-up every second, via 550+ '\n",
      " 'operators, across 150+ countries – helping families and friends around the '\n",
      " 'world to stay connected with 5 billion phones reached. Ding is headquartered '\n",
      " 'in Dublin, Ireland, and also has offices in Barcelona, Bucharest, Dhaka, '\n",
      " 'Dubai, New Jersey and Paris. Ding’s culturally diverse team of more than 200 '\n",
      " 'people reflects our commitment to delivering cutting-edge, potentially '\n",
      " \"life-changing technology to developed and emerging markets alike. We're \"\n",
      " 'always on the lookout for talented people who embody our core values: We are '\n",
      " 'Customer Curious We are Thinkers, Linkers & Doers We Work Better Together We '\n",
      " 'Seek Out that Spark Ding’s recruitment privacy notice is available at '\n",
      " 'https://www.ding.com/recruitment-privacy-notice')\n"
     ]
    }
   ],
   "source": [
    "most_similar = model.dv.most_similar([query_vec], topn=2)\n",
    "\n",
    "for x,y in most_similar:\n",
    "    pp.pprint(all_job_strings[x])\n",
    "    #print(y)"
   ]
  },
  {
   "cell_type": "code",
   "execution_count": 187,
   "id": "7afc81ff-66d1-493e-b21c-259e7469b6b4",
   "metadata": {},
   "outputs": [],
   "source": [
    "# Create a Text widget\n",
    "text_widget_w2v = widgets.Text(\n",
    "    value='',\n",
    "    placeholder='Type something',\n",
    "    description='Input:',\n",
    "    disabled=False\n",
    ")\n",
    "\n",
    "return_no_w2v = widgets.IntText(\n",
    "    value=10,\n",
    "    description='No. to return:',\n",
    "    disabled=False\n",
    ")\n",
    "\n",
    "# Create a Button widget\n",
    "button_w2v = widgets.Button(\n",
    "    description='Submit',\n",
    "    disabled=False,\n",
    "    button_style='',  # 'success', 'info', 'warning', 'danger' or ''\n",
    "    tooltip='Click me',\n",
    "    icon='check'  # (FontAwesome names without the `fa-` prefix)\n",
    ")\n",
    "\n",
    "out2_w2v = widgets.Textarea(\n",
    "    value='Retrieved descriptions:',\n",
    "    placeholder='Type something',\n",
    "    description='String:',\n",
    "    disabled=False\n",
    "    #layout = widgets.Layout('1000px')\n",
    ")"
   ]
  },
  {
   "cell_type": "code",
   "execution_count": 199,
   "id": "e1ded41e-d37e-40a2-9b43-8f853163ffc5",
   "metadata": {},
   "outputs": [],
   "source": [
    "# Function to handle button click\n",
    "def on_button_click_w2v(b):\n",
    "    #out.clear_output()\n",
    "    query_vec = model.infer_vector(text_widget_w2v.value.split())\n",
    "    most_similar = model.dv.most_similar([query_vec], topn=return_no_w2v.value)\n",
    "\n",
    "    out_string = ''\n",
    "    for i,z in enumerate(most_similar):\n",
    "        out_string += \"---\\n\"\n",
    "        out_string += f\"Rank: {i+1}, Similarity with query: {z[1]:.3f}\\n\"\n",
    "        out_string += f\"{all_job_strings[z[0]]} \\n\\n\"\n",
    "\n",
    "    out2_w2v.value = out_string\n",
    "    \n",
    "# Attach the click event handler to the button\n",
    "button_w2v.on_click(on_button_click_w2v)"
   ]
  },
  {
   "cell_type": "code",
   "execution_count": 200,
   "id": "3985de4f-9aed-4e7c-9ba6-52fdc20e5e71",
   "metadata": {},
   "outputs": [
    {
     "data": {
      "application/vnd.jupyter.widget-view+json": {
       "model_id": "022b3c8a6c0c402cb3d9e911ff328bfa",
       "version_major": 2,
       "version_minor": 0
      },
      "text/plain": [
       "VBox(children=(HBox(children=(Text(value='research engineer  SQL sklearn', description='Input:', layout=Layout…"
      ]
     },
     "metadata": {},
     "output_type": "display_data"
    }
   ],
   "source": [
    "# Display the text widget and button\n",
    "display(widgets.VBox([widgets.HBox([text_widget_w2v, return_no_w2v]), button_w2v, out2_w2v]))\n",
    "text_widget_w2v.layout=widgets.Layout(width='800px')\n",
    "out2_w2v.layout = widgets.Layout(width='1000px', height='500px')"
   ]
  },
  {
   "cell_type": "markdown",
   "id": "77facf4a-3f76-4d9e-a66e-bebc18cf9f12",
   "metadata": {},
   "source": [
    "# Other Job description datasets:\n",
    "\n",
    "1. https://www.kaggle.com/datasets/andrewmvd/data-analyst-jobs (synthetic)\n",
    "2. https://www.preprints.org/manuscript/202206.0346/v1\n",
    "3. https://huggingface.co/datasets/jacob-hugging-face/job-descriptions\n",
    "4. https://www.kaggle.com/datasets/ravindrasinghrana/job-description-dataset (synthetic)\n",
    "5. https://github.com/duyet/skill2vec-dataset (skill2vec)"
   ]
  }
 ],
 "metadata": {
  "kernelspec": {
   "display_name": "Python 3 (ipykernel)",
   "language": "python",
   "name": "python3"
  },
  "language_info": {
   "codemirror_mode": {
    "name": "ipython",
    "version": 3
   },
   "file_extension": ".py",
   "mimetype": "text/x-python",
   "name": "python",
   "nbconvert_exporter": "python",
   "pygments_lexer": "ipython3",
   "version": "3.10.12"
  }
 },
 "nbformat": 4,
 "nbformat_minor": 5
}
